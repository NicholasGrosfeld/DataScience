{
 "cells": [
  {
   "cell_type": "markdown",
   "metadata": {},
   "source": [
    "# A Vectorised Sliding Window"
   ]
  },
  {
   "cell_type": "markdown",
   "metadata": {},
   "source": [
    "Adapted from https://towardsdatascience.com/fast-and-robust-sliding-window-vectorization-with-numpy-3ad950ed62f5\n"
   ]
  },
  {
   "cell_type": "markdown",
   "metadata": {},
   "source": [
    "This code takes a dataset of daily temperature observations (can be replaced with any other daily data), and for each day between a start date and an end date (inclusive), it extracts the data within a 'window' period starting with that date, and computes the average temperature within that window. \n",
    "e.g. for a window of 3 days between the dates 1 Feb 2021 and 10 Feb 2021, it will compute the mean temperature for (1 Feb 2021 to 3 Feb 2021), (2 Feb 2021 to 4 Feb 2021), (3 Feb 2021 to 5 Feb 2021), ..., (10 Feb 2021 to 12 Feb 2021). (Thus, the last few windows overlap the end date)"
   ]
  },
  {
   "cell_type": "code",
   "execution_count": 1,
   "metadata": {},
   "outputs": [],
   "source": [
    "# Module import\n",
    "import numpy as np\n",
    "import pandas as pd\n",
    "from datetime import datetime\n",
    "import matplotlib.dates as dt\n",
    "\n",
    "def date_index(y, m, d, y0 = 1942, m0 = 1, d0 = 1):\n",
    "    \n",
    "    '''\n",
    "    This function compoutes the index value of the row in a dataset of 1x daily data for a given date y,m,d. The \n",
    "    dataset used in this example has a starting date of 1 January 1942, so this is set as the origin date y0,m0,d0.\n",
    "    A diferent origin date can be set by overriding the valyes of y0, m0 and d0 at the function call. \n",
    "    '''\n",
    "    date_obj0 = datetime(y0,m0,d0)\n",
    "    d0 = dt.date2num(date_obj0)\n",
    "    \n",
    "    date_obj = datetime(y,m,d)\n",
    "    d = dt.date2num(date_obj)\n",
    "    \n",
    "    return int(d - d0)"
   ]
  },
  {
   "cell_type": "markdown",
   "metadata": {},
   "source": [
    "First we set up the start and end dates of our analysis, plus the window size as described above. We also import the data file (a .csv file) using the pandas module, then extract the columns that we need and convert it to a numpy array. "
   ]
  },
  {
   "cell_type": "code",
   "execution_count": 2,
   "metadata": {},
   "outputs": [],
   "source": [
    "#=================================Parameter Setup==============================\n",
    "START_DATE = (2020, 1, 1) # Variable name in capitals for hard-coded constants\n",
    "END_DATE = (2020, 1, 20)\n",
    "\n",
    "WINDOW = 5\n",
    "#===================================Data Input=================================\n",
    "t_max_pd = pd.read_csv('/Users/nick/Documents/Science/Meteorology_and_Climate/Data/wagga_tmax.csv')\n",
    "#t_min_pd = pd.read_csv('/Users/nick/Documents/Science/Meteorology_and_Climate/Data/wagga_tmin.csv')\n",
    "\n",
    "# Extract the column for temperature, and convert it to a numpy array. \n",
    "t_max_array = np.array(t_max_pd.iloc[:,3])\n",
    "#t_min_array = np.array(t_min_pd.iloc[:,3])"
   ]
  },
  {
   "cell_type": "markdown",
   "metadata": {},
   "source": [
    "To help to conceptualise the idea of a sliding window (and for the sake of comparison), the sliding window will first be implemented with a loop through the temperature data. For each day between (and including) the start date and the end date, the code extracts the temperature value for that day + the next 4 days (for a total of 5 days), computes the mean temperature, and saves the result in a new numpy array:"
   ]
  },
  {
   "cell_type": "code",
   "execution_count": 4,
   "metadata": {},
   "outputs": [],
   "source": [
    "#=========================Sliding Window the Loop Way==========================\n",
    "start_index = date_index(START_DATE[0], START_DATE[1], START_DATE[2])\n",
    "end_index = date_index(END_DATE[0], END_DATE[1], END_DATE[2])\n",
    "\n",
    "looprange = np.arange(start_index, end_index  + 1)\n",
    "\n",
    "output_results_loop = np.zeros((len(looprange)))\n",
    "\n",
    "for temp_index in looprange:\n",
    "    \n",
    "    window_temps = t_max_array[temp_index : temp_index + WINDOW]\n",
    "    \n",
    "    results_index = temp_index - start_index\n",
    "    output_results_loop[results_index] = np.nanmean(window_temps)"
   ]
  },
  {
   "cell_type": "markdown",
   "metadata": {},
   "source": [
    "In each iteration of the loop above, the rows of the temperature data was indexed like so:"
   ]
  },
  {
   "cell_type": "raw",
   "metadata": {},
   "source": [
    "t_max_array[start_index: start_index + window], \n",
    "t_max_array[start_index + 1: start_index + window + 1], \n",
    "t_max_array[start_index + 2: start_index + window + 2], \n",
    "...\n",
    "t_max_array[end_index: end_index + window]."
   ]
  },
  {
   "cell_type": "markdown",
   "metadata": {},
   "source": [
    "Instead of indexing the temperature data array with integer variables that increment by 1 with each iteration of a loop, we can index the rows of the temperature data array with a numpy array containing smaller numpy arrays of the index values of each window, all in one go. The indexing array for the rows would look something like this:"
   ]
  },
  {
   "cell_type": "raw",
   "metadata": {},
   "source": [
    "[[start_index, start_index + 1, start_index + 2, ..., start_index + window],\n",
    "[start_index + 1, start_index + 2, start_index + 3, ..., start_index + window + 1],\n",
    "[start_index + 2, start_index + 3, start_index + 4, ..., start_index + window + 2],\n",
    "[...], \n",
    "[end_index, end_index + 1, end_index + 2, ..., end_index + window]]"
   ]
  },
  {
   "cell_type": "markdown",
   "metadata": {},
   "source": [
    "To make it easier to create this indexing array systematically without using loops (or worse still, hard-coding the numbers for each row...), we can de-compose this array into an addition of two new arrays:"
   ]
  },
  {
   "cell_type": "raw",
   "metadata": {},
   "source": [
    "start_index + [[0, 1, 2, 3, ..., WINDOW] + [[0, 0, 0, ..., 0]\n",
    "               [0, 1, 2, 3, ..., WINDOW]    [1, 1, 1, ..., 1]\n",
    "               [0, 1, 2, 3, ..., WINDOW]    [2, 2, 2, ..., 2]\n",
    "               [...]                        [...]\n",
    "               [0, 1, 2, 3, ..., WINDOW]]   [n_windows, n_windows, n_windows, ..., n_windows]]\n",
    "               \n",
    "(where n_windows = end_index - start_index + 1, giving the number of times that the sliding window iterates)"
   ]
  },
  {
   "cell_type": "markdown",
   "metadata": {},
   "source": [
    "With the help of numpy broadcasting, we can easily set up this addition of matrices like so:"
   ]
  },
  {
   "cell_type": "raw",
   "metadata": {},
   "source": [
    "n_windows = end_index - start_index + 1\n",
    "\n",
    "first_array = np.expand_dims(np.arange(0, WINDOW, 1), axis = 0)\n",
    "\n",
    "# This next array needs to be transposed so the output array from arange goes down the columns (axis 1), instead of  # across the rows (axis 0). \n",
    "seccond_array = np.expand_dims(np.arange(0, n_windows, 1), axis = 0).transpose() \n",
    "\n",
    "index_array = start_index + first_array + seccond_array"
   ]
  },
  {
   "cell_type": "markdown",
   "metadata": {},
   "source": [
    "The resulting code looks like this:"
   ]
  },
  {
   "cell_type": "code",
   "execution_count": 5,
   "metadata": {},
   "outputs": [],
   "source": [
    "#=========================Sliding Window the Vectorised Way====================\n",
    "\n",
    "start_index = date_index(START_DATE[0], START_DATE[1], START_DATE[2])\n",
    "end_index = date_index(END_DATE[0], END_DATE[1], END_DATE[2])\n",
    "\n",
    "n_windows = end_index - start_index + 1\n",
    "\n",
    "first_array = np.expand_dims(np.arange(0, WINDOW, 1), axis = 0)\n",
    "seccond_array = np.expand_dims(np.arange(0, n_windows, 1), axis = 0).transpose()\n",
    "\n",
    "index_array = start_index + first_array + seccond_array\n",
    "\n",
    "output_results_vector = np.nanmean((t_max_array[index_array]), axis = 1)"
   ]
  },
  {
   "cell_type": "markdown",
   "metadata": {},
   "source": [
    "We can confirm that the two methods produce equal results by computing the difference between each of the results arrays:"
   ]
  },
  {
   "cell_type": "code",
   "execution_count": 6,
   "metadata": {},
   "outputs": [
    {
     "name": "stdout",
     "output_type": "stream",
     "text": [
      "[0. 0. 0. 0. 0. 0. 0. 0. 0. 0. 0. 0. 0. 0. 0. 0. 0. 0. 0. 0.]\n"
     ]
    }
   ],
   "source": [
    "print(output_results_vector - output_results_loop)"
   ]
  },
  {
   "cell_type": "code",
   "execution_count": null,
   "metadata": {},
   "outputs": [],
   "source": []
  }
 ],
 "metadata": {
  "kernelspec": {
   "display_name": "Python 3",
   "language": "python",
   "name": "python3"
  },
  "language_info": {
   "codemirror_mode": {
    "name": "ipython",
    "version": 3
   },
   "file_extension": ".py",
   "mimetype": "text/x-python",
   "name": "python",
   "nbconvert_exporter": "python",
   "pygments_lexer": "ipython3",
   "version": "3.7.4"
  }
 },
 "nbformat": 4,
 "nbformat_minor": 2
}
